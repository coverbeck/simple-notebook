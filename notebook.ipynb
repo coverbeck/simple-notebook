{
  "nbformat": 4,
  "nbformat_minor": 0,
  "metadata": {
    "colab": {
      "provenance": [],
      "authorship_tag": "ABX9TyOvihAxHYcHRNfCqilp5Zgg",
      "include_colab_link": true
    },
    "kernelspec": {
      "name": "python3",
      "display_name": "Python 3"
    },
    "language_info": {
      "name": "python"
    },
    "authors": [
      { "name": "Author Two" },
      { "name": "Author One" }
    ]
  },
  "cells": [
    {
      "cell_type": "markdown",
      "source": [
        "A simple notebook.\n\nWith a newline, the link will execute JS:\n\n$$\\href{java\nscript:alert(1)}{Click Me}$$\n\nWith no newline, the sanitization works as it should: $$\\href{javascript:alert(1)}{Click Me}$$\n"
      ],
      "metadata": {
        "id": "PSOLAGuMMaYg"
      }
    },
    {
      "cell_type": "code",
      "execution_count": null,
      "metadata": {
        "colab": {
          "base_uri": "https://localhost:8080/"
        },
        "id": "z9GVmXMWFnWV",
        "outputId": "f33dda6a-d0fd-40ee-de84-e726fafab5b9"
      },
      "outputs": [
        {
          "output_type": "stream",
          "name": "stdout",
          "text": [
            "Hello world!\n"
          ]
        }
      ],
      "source": [
        "print(\"Hello world!\")"
      ]
    }
  ]
}
